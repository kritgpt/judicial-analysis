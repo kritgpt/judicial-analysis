{
  "cells": [
    {
      "cell_type": "code",
      "execution_count": null,
      "metadata": {
        "id": "ujNUvxVvfV2K"
      },
      "outputs": [],
      "source": [
        "import pandas as pd"
      ]
    },
    {
      "attachments": {},
      "cell_type": "markdown",
      "metadata": {},
      "source": [
        "# Methods Applied\n",
        "## Classification of Crimes\n",
        "\n",
        "### Sources\n",
        "List of crimes against women: https://ncrb.gov.in/en/crime-india-year-2014\n",
        "- 2014 chosen as mid-point\n",
        "> !Change this to most crimes year!\n",
        "- List also unchanging in 2013-2015"
      ]
    },
    {
      "attachments": {},
      "cell_type": "markdown",
      "metadata": {},
      "source": [
        "# Sampling Data "
      ]
    },
    {
      "cell_type": "code",
      "execution_count": null,
      "metadata": {},
      "outputs": [],
      "source": [
        "pd.options.display.max_rows = 10"
      ]
    },
    {
      "cell_type": "code",
      "execution_count": null,
      "metadata": {
        "id": "gAt3WJxrvruJ"
      },
      "outputs": [],
      "source": [
        "acf = pd.read_csv('/acts_sections.csv', nrows=100)\n",
        "\n",
        "print(acf)"
      ]
    },
    {
      "cell_type": "code",
      "execution_count": null,
      "metadata": {
        "id": "dxX2dN2fvud-"
      },
      "outputs": [],
      "source": [
        "jdf = pd.read_csv('/judges_clean.csv', nrows=100)\n",
        "\n",
        "print(jdf)"
      ]
    },
    {
      "cell_type": "code",
      "execution_count": null,
      "metadata": {
        "colab": {
          "base_uri": "https://localhost:8080/"
        },
        "id": "ZLLpab2bwQ14",
        "outputId": "afa42dea-a118-4f1a-a35b-db0a0a162f37"
      },
      "outputs": [],
      "source": [
        "csf = pd.read_csv('/cases_2010.csv', nrows=100)\n",
        "#5319\n",
        "# loctest = csf.loc[csf['cino'] == 'MHNB030000032010']\n",
        "# print(loctest)\n",
        "print(csf)"
      ]
    },
    {
      "cell_type": "markdown",
      "metadata": {
        "id": "39RBrD6HMzM7"
      },
      "source": [
        "# Impact of Nirbhaya Case\n",
        "The delhi gang rape and murder case that came to national attention at the end of 2012 was a ~ point in the conversation around gender-based violence in India. [new laws + fast track courts] [ppl wanted harsh punishment].\n",
        "[insert oberservation]"
      ]
    },
    {
      "attachments": {},
      "cell_type": "markdown",
      "metadata": {},
      "source": [
        "This text analyses various factors related to gender-based crimes in the pre and post-Nirbhaya era. The factors considered are:\n",
        "- Number of cases filed [mention new laws + more crime/ more reporting dilemma]\n",
        "- Percentage of cases that resulted in convictions [change in attitude of judges?]\n",
        "- Time taken for final verdict from date of filing [mention fasttrack courts]"
      ]
    },
    {
      "cell_type": "code",
      "execution_count": null,
      "metadata": {},
      "outputs": [],
      "source": [
        "'''\n",
        "1. crime against women + count /per era\\\n",
        "2. crime against women + verdict convicting /per era\\\n",
        "3. crime against women + (final date - filing date) /per era\\\n",
        "'''"
      ]
    },
    {
      "cell_type": "markdown",
      "metadata": {
        "id": "INWYXI0xVwOI"
      },
      "source": [
        "# Change of Ruling Parties\n",
        "In mid-2014, almost exactly the middle of the assessed dataset, India saw a major change in politics with Narendra Modi of BJP replacing the long-serving Manmohan Singh of the Congress. With women's empowerment being a major point on both parties' manifestoes, [insert oberservation]."
      ]
    },
    {
      "attachments": {},
      "cell_type": "markdown",
      "metadata": {},
      "source": [
        "This text analyses various factors related to gender-based crimes in the pre and post-Nirbhaya era. The factors considered are:\n",
        "- Number of cases filed [mention victim blaming by ministers and people in percieved power]\n",
        "- Percentage of cases that resulted in convictions [change in attitude of judges?]\n",
        "- Time taken for final verdict from date of filing [pressure from people on gov to fulfil promises in turn on judiciary]"
      ]
    },
    {
      "attachments": {},
      "cell_type": "markdown",
      "metadata": {},
      "source": [
        "> State gov analysis -> any insights about federation?"
      ]
    },
    {
      "cell_type": "code",
      "execution_count": null,
      "metadata": {},
      "outputs": [],
      "source": [
        "'''\n",
        "1. crime against women + count /per gov-era\\\n",
        "2. crime against women + verdict convicting /per gov-era\\\n",
        "3. crime against women + (final date - filing date) /per gov-era\\\n",
        "'''"
      ]
    },
    {
      "attachments": {},
      "cell_type": "markdown",
      "metadata": {},
      "source": [
        "# What crimes do women commit?\n",
        "But what about when women are the ones committing the crimes?"
      ]
    },
    {
      "attachments": {},
      "cell_type": "markdown",
      "metadata": {},
      "source": [
        "- Laws about gender-related crimes in India focus on women as the victim. => Obviously low women (who are the women who are accused of (more interesting than convicted because it shows that its possible to accuse women) these crimes against other women?)\n",
        "- Women are socialised/ expected to be nurturing, care for family, be jealous of other women. => How does this affect crimes commited by them? They do commit less crimes overall (obv) but do they commit certain kinds of crimes relatively more than others? What could be the reason behind these? \n",
        "- As the expectations from women change over time and maybe become less/ more traditionally \"manly\" [cite], are more cases files against them? Are they necessarily committing more crimes?   "
      ]
    },
    {
      "cell_type": "code",
      "execution_count": null,
      "metadata": {},
      "outputs": [],
      "source": [
        "'''\n",
        "1. defendent woman + crime against woman\n",
        "2. defendent woman + verdict convicting /per crime\\\n",
        "3. defendent woman + verdict convicting /per years\\\n",
        "'''"
      ]
    }
  ],
  "metadata": {
    "colab": {
      "provenance": []
    },
    "kernelspec": {
      "display_name": "Python 3",
      "name": "python3"
    },
    "language_info": {
      "name": "python"
    }
  },
  "nbformat": 4,
  "nbformat_minor": 0
}
