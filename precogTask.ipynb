{
  "cells": [
    {
      "cell_type": "code",
      "execution_count": 2,
      "metadata": {
        "id": "ujNUvxVvfV2K"
      },
      "outputs": [],
      "source": [
        "import pandas as pd\n",
        "pd.options.display.max_rows = 10"
      ]
    },
    {
      "attachments": {},
      "cell_type": "markdown",
      "metadata": {},
      "source": [
        "# Methods Applied\n"
      ]
    },
    {
      "attachments": {},
      "cell_type": "markdown",
      "metadata": {},
      "source": [
        "## Sampling Data "
      ]
    },
    {
      "cell_type": "code",
      "execution_count": null,
      "metadata": {
        "id": "gAt3WJxrvruJ"
      },
      "outputs": [],
      "source": [
        "acf = pd.read_csv('../../../csv/acts_sections.csv', nrows=100)\n",
        "\n",
        "print(acf)"
      ]
    },
    {
      "cell_type": "code",
      "execution_count": null,
      "metadata": {
        "id": "dxX2dN2fvud-"
      },
      "outputs": [],
      "source": [
        "jdf = pd.read_csv('../../../csv/judges_clean.csv', nrows=100)\n",
        "\n",
        "print(jdf)"
      ]
    },
    {
      "cell_type": "code",
      "execution_count": null,
      "metadata": {
        "colab": {
          "base_uri": "https://localhost:8080/"
        },
        "id": "ZLLpab2bwQ14",
        "outputId": "afa42dea-a118-4f1a-a35b-db0a0a162f37"
      },
      "outputs": [],
      "source": [
        "csf = pd.read_csv('../../../csv/cases/cases_2010.csv', nrows=10)\n",
        "#5319\n",
        "# loctest = csf.loc[csf['cino'] == 'MHNB030000032010']\n",
        "# print(loctest)\n",
        "print(csf)"
      ]
    },
    {
      "attachments": {},
      "cell_type": "markdown",
      "metadata": {},
      "source": [
        "## Classification of Crimes\n",
        "\n",
        "### Sources\n",
        "List of crimes against women: https://ncrb.gov.in/en/crime-india-year-2014\n",
        "- 2014 chosen as mid-point\n",
        "> !Change this to most crimes year!\n",
        "- List also unchanging in 2013-2015"
      ]
    },
    {
      "cell_type": "code",
      "execution_count": 4,
      "metadata": {},
      "outputs": [],
      "source": [
        "crimes_set = {'509', '304B', '365', 'Immoral Traffic', '354', '511', \n",
        "            'Dowry', '376', 'Sati', '364', '306', '366', '367', '368', '369',\n",
        "            '364A', 'Indecent Representation', 'Women', 'Woman', 'domestic Violence', \n",
        "            '363', '498A'}\n",
        "\n"
      ]
    },
    {
      "attachments": {},
      "cell_type": "markdown",
      "metadata": {},
      "source": [
        "ACTS_TRUE_DF is dataframe of keys of all acts which are related to crimes against women. "
      ]
    },
    {
      "cell_type": "code",
      "execution_count": 5,
      "metadata": {},
      "outputs": [
        {
          "name": "stdout",
          "output_type": "stream",
          "text": [
            "                                                   act_s  count      act  \\\n",
            "46           ..143 147 323 324 354 341 504 506.2.r/w 149    1.0     46.0   \n",
            "61     /U/S 363, 376 of IPC and Sec. 3(I), (II), (V) ...    1.0     61.0   \n",
            "81     10.Protection of Women from Domestic Violence Act  312.0     81.0   \n",
            "156    12 R/W sec 17,18,19,20,22 Protection of Women ...   51.0    156.0   \n",
            "163    12 of Protection of Women from  Domestic Viole...   34.0    163.0   \n",
            "...                                                  ...    ...      ...   \n",
            "29393  u/sec.366(A), 376 of IPC, u/s. 4,6,12 of POCSO...    1.0  29393.0   \n",
            "29394  u/sec.366(A), 376 of IPC, u/sec. 4 of POCSO Ac...    1.0  29394.0   \n",
            "29402  u/sec.366(A),376(2)(F), 376 (2)(I) Of IPC and ...    1.0  29402.0   \n",
            "29424  u/sec.498A,304B,34, u/sec.3,4, of Dowry Prohib...    1.0  29424.0   \n",
            "29768  under section 376 (2) (N) of IPC and sec.4,6, ...    1.0  29768.0   \n",
            "\n",
            "                                                  tokens  matches  \\\n",
            "46     [..143, 147, 323, 324, 354, 341, 504, 506.2.r/...    [354]   \n",
            "61     [/U/S, 363,, 376, of, IPC, and, Sec., 3(I),, (...    [376]   \n",
            "81     [10.Protection, of, Women, from, Domestic, Vio...  [Women]   \n",
            "156    [12, R/W, sec, 17,18,19,20,22, Protection, of,...  [Women]   \n",
            "163    [12, of, Protection, of, Women, from, Domestic...  [Women]   \n",
            "...                                                  ...      ...   \n",
            "29393  [u/sec.366(A),, 376, of, IPC,, u/s., 4,6,12, o...    [376]   \n",
            "29394  [u/sec.366(A),, 376, of, IPC,, u/sec., 4, of, ...    [376]   \n",
            "29402  [u/sec.366(A),376(2)(F),, 376, (2)(I), Of, IPC...    [376]   \n",
            "29424  [u/sec.498A,304B,34,, u/sec.3,4,, of, Dowry, P...  [Dowry]   \n",
            "29768  [under, section, 376, (2), (N), of, IPC, and, ...    [376]   \n",
            "\n",
            "       is_against_women  \n",
            "46                 True  \n",
            "61                 True  \n",
            "81                 True  \n",
            "156                True  \n",
            "163                True  \n",
            "...                 ...  \n",
            "29393              True  \n",
            "29394              True  \n",
            "29402              True  \n",
            "29424              True  \n",
            "29768              True  \n",
            "\n",
            "[359 rows x 6 columns]\n"
          ]
        }
      ],
      "source": [
        "act_key_df = pd.read_csv('../../../csv/keys/act_key.csv')\n",
        "\n",
        "# check which rows match\n",
        "act_key_df['tokens'] = act_key_df['act_s'].apply(lambda x: str(x).split())\n",
        "act_key_df['matches'] = act_key_df['tokens'].apply(lambda x: list(crimes_set.intersection(x)))\n",
        "act_key_df['is_against_women'] = act_key_df['matches'].apply(lambda x: True if x else False)\n",
        "\n",
        "# pick out rows which match\n",
        "acts_true_df = act_key_df.loc[act_key_df['is_against_women']==True]\n",
        "print(acts_true_df)"
      ]
    },
    {
      "cell_type": "markdown",
      "metadata": {
        "id": "39RBrD6HMzM7"
      },
      "source": [
        "# Impact of Nirbhaya Case\n",
        "The delhi gang rape and murder case that came to national attention at the end of 2012 was a ~ point in the conversation around gender-based violence in India. [new laws + fast track courts] [ppl wanted harsh punishment].\n",
        "[insert oberservation]"
      ]
    },
    {
      "attachments": {},
      "cell_type": "markdown",
      "metadata": {},
      "source": [
        "This text analyses various factors related to gender-based crimes in the pre and post-Nirbhaya era. The factors considered are:\n",
        "- Number of cases filed [mention new laws + more crime/ more reporting dilemma]\n",
        "- Percentage of cases that resulted in convictions [change in attitude of judges?]\n",
        "- Time taken for final verdict from date of filing [mention fasttrack courts]"
      ]
    },
    {
      "cell_type": "code",
      "execution_count": null,
      "metadata": {},
      "outputs": [],
      "source": [
        "'''\n",
        "1. crime against women + count /per era\\\n",
        "2. crime against women + verdict convicting /per era\\\n",
        "3. crime against women + (final date - filing date) /per era\\\n",
        "'''"
      ]
    },
    {
      "cell_type": "markdown",
      "metadata": {
        "id": "INWYXI0xVwOI"
      },
      "source": [
        "# Change of Ruling Parties\n",
        "In mid-2014, almost exactly the middle of the assessed dataset, India saw a major change in politics with Narendra Modi of BJP replacing the long-serving Manmohan Singh of the Congress. With women's empowerment being a major point on both parties' manifestoes, [insert oberservation]."
      ]
    },
    {
      "attachments": {},
      "cell_type": "markdown",
      "metadata": {},
      "source": [
        "This text analyses various factors related to gender-based crimes in the pre and post-Nirbhaya era. The factors considered are:\n",
        "- Number of cases filed [mention victim blaming by ministers and people in percieved power]\n",
        "- Percentage of cases that resulted in convictions [change in attitude of judges?]\n",
        "- Time taken for final verdict from date of filing [pressure from people on gov to fulfil promises in turn on judiciary]"
      ]
    },
    {
      "attachments": {},
      "cell_type": "markdown",
      "metadata": {},
      "source": [
        "> State gov analysis -> any insights about federation?"
      ]
    },
    {
      "cell_type": "code",
      "execution_count": null,
      "metadata": {},
      "outputs": [],
      "source": [
        "'''\n",
        "1. crime against women + count /per gov-era\\\n",
        "2. crime against women + verdict convicting /per gov-era\\\n",
        "3. crime against women + (final date - filing date) /per gov-era\\\n",
        "'''"
      ]
    },
    {
      "attachments": {},
      "cell_type": "markdown",
      "metadata": {},
      "source": [
        "# What crimes do women commit?\n",
        "But what about when women are the ones committing the crimes?"
      ]
    },
    {
      "attachments": {},
      "cell_type": "markdown",
      "metadata": {},
      "source": [
        "- Laws about gender-related crimes in India focus on women as the victim. => Obviously low women (who are the women who are accused of (more interesting than convicted because it shows that its possible to accuse women) these crimes against other women?)\n",
        "- Women are socialised/ expected to be nurturing, care for family, be jealous of other women. => How does this affect crimes commited by them? They do commit less crimes overall (obv) but do they commit certain kinds of crimes relatively more than others? What could be the reason behind these? \n",
        "- As the expectations from women change over time and maybe become less/ more traditionally \"manly\" [cite], are more cases files against them? Are they necessarily committing more crimes?   "
      ]
    },
    {
      "cell_type": "code",
      "execution_count": null,
      "metadata": {},
      "outputs": [],
      "source": [
        "'''\n",
        "1. defendent woman + crime against woman\n",
        "2. defendent woman + verdict convicting /per crime\\\n",
        "3. defendent woman + verdict convicting /per years\\\n",
        "'''"
      ]
    }
  ],
  "metadata": {
    "colab": {
      "provenance": []
    },
    "kernelspec": {
      "display_name": "pattie",
      "language": "python",
      "name": "python3"
    },
    "language_info": {
      "codemirror_mode": {
        "name": "ipython",
        "version": 3
      },
      "file_extension": ".py",
      "mimetype": "text/x-python",
      "name": "python",
      "nbconvert_exporter": "python",
      "pygments_lexer": "ipython3",
      "version": "3.11.1"
    },
    "vscode": {
      "interpreter": {
        "hash": "30e7a9966b760f1bea700498f7b121542a87c01ceb48f78039ed3f1bd3fa9d92"
      }
    }
  },
  "nbformat": 4,
  "nbformat_minor": 0
}
