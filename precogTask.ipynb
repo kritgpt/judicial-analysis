{
  "cells": [
    {
      "cell_type": "code",
      "execution_count": 5,
      "metadata": {
        "id": "ujNUvxVvfV2K"
      },
      "outputs": [],
      "source": [
        "import pandas as pd\n",
        "pd.options.display.max_rows = 10"
      ]
    },
    {
      "attachments": {},
      "cell_type": "markdown",
      "metadata": {},
      "source": [
        "# Methods Applied\n",
        "## Classification of Crimes\n",
        "\n",
        "### Sources\n",
        "List of crimes against women: https://ncrb.gov.in/en/crime-india-year-2014\n",
        "- 2014 chosen as mid-point\n",
        "> !Change this to most crimes year!\n",
        "- List also unchanging in 2013-2015"
      ]
    },
    {
      "attachments": {},
      "cell_type": "markdown",
      "metadata": {},
      "source": [
        "# Sampling Data "
      ]
    },
    {
      "cell_type": "code",
      "execution_count": 7,
      "metadata": {
        "id": "gAt3WJxrvruJ"
      },
      "outputs": [
        {
          "name": "stdout",
          "output_type": "stream",
          "text": [
            "                 ddl_case_id    act  section  bailable_ipc  \\\n",
            "0   06-03-02-210100004042014  17353      NaN           NaN   \n",
            "1   23-34-01-229900001012019   4759      NaN           NaN   \n",
            "2   13-18-03-204000030972016  17353      NaN           NaN   \n",
            "3   23-28-01-220102000232016   4759      NaN           NaN   \n",
            "4   01-35-05-203007002652012  17353      NaN           NaN   \n",
            "..                       ...    ...      ...           ...   \n",
            "95  11-26-03-220300010782015  17353      NaN           NaN   \n",
            "96  01-23-06-200166040812015  17353      NaN           NaN   \n",
            "97  08-04-04-214200017112016  17353      NaN           NaN   \n",
            "98  13-06-02-207100027562016  17353      NaN           NaN   \n",
            "99  04-03-01-202000001762015  17353      NaN           NaN   \n",
            "\n",
            "    number_sections_ipc  criminal  \n",
            "0                   1.0         1  \n",
            "1                   NaN         1  \n",
            "2                   1.0         1  \n",
            "3                   NaN         1  \n",
            "4                   1.0         1  \n",
            "..                  ...       ...  \n",
            "95                  1.0         1  \n",
            "96                  1.0         1  \n",
            "97                  1.0         1  \n",
            "98                  1.0         1  \n",
            "99                  1.0         1  \n",
            "\n",
            "[100 rows x 6 columns]\n"
          ]
        }
      ],
      "source": [
        "acf = pd.read_csv('../../../csv/acts_sections.csv', nrows=100)\n",
        "\n",
        "print(acf)"
      ]
    },
    {
      "cell_type": "code",
      "execution_count": 8,
      "metadata": {
        "id": "dxX2dN2fvud-"
      },
      "outputs": [
        {
          "name": "stdout",
          "output_type": "stream",
          "text": [
            "    ddl_judge_id  state_code  dist_code  court_no  \\\n",
            "0              1           1          1         1   \n",
            "1              2           1          1         1   \n",
            "2              3           1          1         1   \n",
            "3              4           1          1         1   \n",
            "4              5           1          1         1   \n",
            "..           ...         ...        ...       ...   \n",
            "95            96           1          1         4   \n",
            "96            97           1          1         4   \n",
            "97            98           1          1         4   \n",
            "98            99           1          1         4   \n",
            "99           100           1          1         4   \n",
            "\n",
            "                 judge_position female_judge  start_date    end_date  \n",
            "0     chief judicial magistrate  0 nonfemale  20-09-2013  20-02-2014  \n",
            "1     chief judicial magistrate  0 nonfemale  31-10-2013  20-02-2014  \n",
            "2     chief judicial magistrate  0 nonfemale  21-02-2014  31-05-2016  \n",
            "3     chief judicial magistrate  0 nonfemale  01-06-2016  06-06-2016  \n",
            "4     chief judicial magistrate  0 nonfemale  06-06-2016  07-07-2018  \n",
            "..                          ...          ...         ...         ...  \n",
            "95  civil judge junior division  0 nonfemale  01-03-2007  01-06-2015  \n",
            "96  civil judge junior division  0 nonfemale  01-06-2015  31-08-2017  \n",
            "97  civil judge junior division  0 nonfemale  04-06-2018         NaN  \n",
            "98  civil judge senior division  0 nonfemale  01-03-2007  04-06-2012  \n",
            "99  civil judge senior division  0 nonfemale  06-06-2011  07-06-2013  \n",
            "\n",
            "[100 rows x 8 columns]\n"
          ]
        }
      ],
      "source": [
        "jdf = pd.read_csv('../../../csv/judges_clean.csv', nrows=100)\n",
        "\n",
        "print(jdf)"
      ]
    },
    {
      "cell_type": "code",
      "execution_count": 6,
      "metadata": {
        "colab": {
          "base_uri": "https://localhost:8080/"
        },
        "id": "ZLLpab2bwQ14",
        "outputId": "afa42dea-a118-4f1a-a35b-db0a0a162f37"
      },
      "outputs": [
        {
          "name": "stdout",
          "output_type": "stream",
          "text": [
            "                ddl_case_id  year  state_code  dist_code  court_no  \\\n",
            "0  01-01-01-200308002162010  2010           1          1         1   \n",
            "1  01-01-01-200707000172010  2010           1          1         1   \n",
            "2  01-01-01-200707000182010  2010           1          1         1   \n",
            "3  01-01-01-200707000192010  2010           1          1         1   \n",
            "4  01-01-01-200707000202010  2010           1          1         1   \n",
            "5  01-01-01-201907001972010  2010           1          1         1   \n",
            "6  01-01-01-201908000012010  2010           1          1         1   \n",
            "7  01-01-01-201908000022010  2010           1          1         1   \n",
            "8  01-01-01-201908000032010  2010           1          1         1   \n",
            "9  01-01-01-201908000042010  2010           1          1         1   \n",
            "\n",
            "               cino             judge_position female_defendant  \\\n",
            "0  MHNB030013812010  chief judicial magistrate           0 male   \n",
            "1  MHNB030004552010  chief judicial magistrate    -9998 unclear   \n",
            "2  MHNB030004562010  chief judicial magistrate    -9998 unclear   \n",
            "3  MHNB030004582010  chief judicial magistrate    -9998 unclear   \n",
            "4  MHNB030004592010  chief judicial magistrate    -9998 unclear   \n",
            "5  MHNB030014212010  chief judicial magistrate    -9998 unclear   \n",
            "6  MHNB030000012010  chief judicial magistrate    -9998 unclear   \n",
            "7  MHNB030000042010  chief judicial magistrate           0 male   \n",
            "8  MHNB030000022010  chief judicial magistrate    -9998 unclear   \n",
            "9  MHNB030000032010  chief judicial magistrate    -9998 unclear   \n",
            "\n",
            "  female_petitioner  female_adv_def  female_adv_pet  type_name  purpose_name  \\\n",
            "0          1 female               0           -9998        790          5228   \n",
            "1          1 female           -9999               0       2587          3627   \n",
            "2     -9998 unclear           -9999               0       2587          3627   \n",
            "3          1 female           -9999               0       2587          3627   \n",
            "4     -9998 unclear           -9999               0       2587          3627   \n",
            "5            0 male               0               0       1429           509   \n",
            "6            0 male               0               0       1429          2237   \n",
            "7          1 female           -9999               0       1429          3627   \n",
            "8            0 male               0               0       1429          2237   \n",
            "9     -9998 unclear               0               0       1429          2237   \n",
            "\n",
            "   disp_name date_of_filing date_of_decision date_first_list date_last_list  \\\n",
            "0         42     2010-12-13       2011-06-19      2011-06-08     2011-06-20   \n",
            "1         42     2010-02-25       2010-11-21      2010-08-06     2010-08-06   \n",
            "2         42     2010-02-25       2010-11-21      2010-08-06     2010-08-06   \n",
            "3         42     2010-02-25       2010-11-21      2010-08-06     2010-08-06   \n",
            "4         42     2010-02-25       2010-11-21      2010-08-06     2010-08-06   \n",
            "5         25     2010-12-01       2015-07-24      2013-11-22     2015-06-12   \n",
            "6         25     2010-01-02       2010-01-11      2010-01-05     2010-01-05   \n",
            "7         22     2010-01-02       2013-12-11      2010-02-02     2013-11-18   \n",
            "8         25     2010-01-02       2010-02-11      2010-01-05     2010-01-27   \n",
            "9         25     2010-01-02       2010-02-12      2010-01-06     2010-01-27   \n",
            "\n",
            "  date_next_list  \n",
            "0     2011-06-24  \n",
            "1     2010-11-30  \n",
            "2     2010-11-30  \n",
            "3     2010-11-30  \n",
            "4     2010-11-30  \n",
            "5     2015-07-24  \n",
            "6     2010-01-11  \n",
            "7     2013-12-11  \n",
            "8     2010-02-11  \n",
            "9     2010-02-12  \n"
          ]
        }
      ],
      "source": [
        "csf = pd.read_csv('../../../csv/cases/cases_2010.csv', nrows=10)\n",
        "#5319\n",
        "# loctest = csf.loc[csf['cino'] == 'MHNB030000032010']\n",
        "# print(loctest)\n",
        "print(csf)"
      ]
    },
    {
      "cell_type": "markdown",
      "metadata": {
        "id": "39RBrD6HMzM7"
      },
      "source": [
        "# Impact of Nirbhaya Case\n",
        "The delhi gang rape and murder case that came to national attention at the end of 2012 was a ~ point in the conversation around gender-based violence in India. [new laws + fast track courts] [ppl wanted harsh punishment].\n",
        "[insert oberservation]"
      ]
    },
    {
      "attachments": {},
      "cell_type": "markdown",
      "metadata": {},
      "source": [
        "This text analyses various factors related to gender-based crimes in the pre and post-Nirbhaya era. The factors considered are:\n",
        "- Number of cases filed [mention new laws + more crime/ more reporting dilemma]\n",
        "- Percentage of cases that resulted in convictions [change in attitude of judges?]\n",
        "- Time taken for final verdict from date of filing [mention fasttrack courts]"
      ]
    },
    {
      "cell_type": "code",
      "execution_count": null,
      "metadata": {},
      "outputs": [],
      "source": [
        "'''\n",
        "1. crime against women + count /per era\\\n",
        "2. crime against women + verdict convicting /per era\\\n",
        "3. crime against women + (final date - filing date) /per era\\\n",
        "'''"
      ]
    },
    {
      "cell_type": "markdown",
      "metadata": {
        "id": "INWYXI0xVwOI"
      },
      "source": [
        "# Change of Ruling Parties\n",
        "In mid-2014, almost exactly the middle of the assessed dataset, India saw a major change in politics with Narendra Modi of BJP replacing the long-serving Manmohan Singh of the Congress. With women's empowerment being a major point on both parties' manifestoes, [insert oberservation]."
      ]
    },
    {
      "attachments": {},
      "cell_type": "markdown",
      "metadata": {},
      "source": [
        "This text analyses various factors related to gender-based crimes in the pre and post-Nirbhaya era. The factors considered are:\n",
        "- Number of cases filed [mention victim blaming by ministers and people in percieved power]\n",
        "- Percentage of cases that resulted in convictions [change in attitude of judges?]\n",
        "- Time taken for final verdict from date of filing [pressure from people on gov to fulfil promises in turn on judiciary]"
      ]
    },
    {
      "attachments": {},
      "cell_type": "markdown",
      "metadata": {},
      "source": [
        "> State gov analysis -> any insights about federation?"
      ]
    },
    {
      "cell_type": "code",
      "execution_count": null,
      "metadata": {},
      "outputs": [],
      "source": [
        "'''\n",
        "1. crime against women + count /per gov-era\\\n",
        "2. crime against women + verdict convicting /per gov-era\\\n",
        "3. crime against women + (final date - filing date) /per gov-era\\\n",
        "'''"
      ]
    },
    {
      "attachments": {},
      "cell_type": "markdown",
      "metadata": {},
      "source": [
        "# What crimes do women commit?\n",
        "But what about when women are the ones committing the crimes?"
      ]
    },
    {
      "attachments": {},
      "cell_type": "markdown",
      "metadata": {},
      "source": [
        "- Laws about gender-related crimes in India focus on women as the victim. => Obviously low women (who are the women who are accused of (more interesting than convicted because it shows that its possible to accuse women) these crimes against other women?)\n",
        "- Women are socialised/ expected to be nurturing, care for family, be jealous of other women. => How does this affect crimes commited by them? They do commit less crimes overall (obv) but do they commit certain kinds of crimes relatively more than others? What could be the reason behind these? \n",
        "- As the expectations from women change over time and maybe become less/ more traditionally \"manly\" [cite], are more cases files against them? Are they necessarily committing more crimes?   "
      ]
    },
    {
      "cell_type": "code",
      "execution_count": null,
      "metadata": {},
      "outputs": [],
      "source": [
        "'''\n",
        "1. defendent woman + crime against woman\n",
        "2. defendent woman + verdict convicting /per crime\\\n",
        "3. defendent woman + verdict convicting /per years\\\n",
        "'''"
      ]
    }
  ],
  "metadata": {
    "colab": {
      "provenance": []
    },
    "kernelspec": {
      "display_name": "pattie",
      "language": "python",
      "name": "python3"
    },
    "language_info": {
      "codemirror_mode": {
        "name": "ipython",
        "version": 3
      },
      "file_extension": ".py",
      "mimetype": "text/x-python",
      "name": "python",
      "nbconvert_exporter": "python",
      "pygments_lexer": "ipython3",
      "version": "3.11.1"
    },
    "vscode": {
      "interpreter": {
        "hash": "30e7a9966b760f1bea700498f7b121542a87c01ceb48f78039ed3f1bd3fa9d92"
      }
    }
  },
  "nbformat": 4,
  "nbformat_minor": 0
}
