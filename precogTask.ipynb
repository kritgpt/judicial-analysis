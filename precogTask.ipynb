{
  "cells": [
    {
      "cell_type": "code",
      "execution_count": 73,
      "metadata": {
        "id": "ujNUvxVvfV2K"
      },
      "outputs": [],
      "source": [
        "import pandas as pd\n",
        "pd.options.display.max_rows = 10"
      ]
    },
    {
      "attachments": {},
      "cell_type": "markdown",
      "metadata": {},
      "source": [
        "# Methods Applied\n"
      ]
    },
    {
      "attachments": {},
      "cell_type": "markdown",
      "metadata": {},
      "source": [
        "## Sampling Data "
      ]
    },
    {
      "cell_type": "code",
      "execution_count": 2,
      "metadata": {
        "id": "gAt3WJxrvruJ"
      },
      "outputs": [
        {
          "name": "stdout",
          "output_type": "stream",
          "text": [
            "                 ddl_case_id    act  section  bailable_ipc  \\\n",
            "0   06-03-02-210100004042014  17353      NaN           NaN   \n",
            "1   23-34-01-229900001012019   4759      NaN           NaN   \n",
            "2   13-18-03-204000030972016  17353      NaN           NaN   \n",
            "3   23-28-01-220102000232016   4759      NaN           NaN   \n",
            "4   01-35-05-203007002652012  17353      NaN           NaN   \n",
            "..                       ...    ...      ...           ...   \n",
            "95  11-26-03-220300010782015  17353      NaN           NaN   \n",
            "96  01-23-06-200166040812015  17353      NaN           NaN   \n",
            "97  08-04-04-214200017112016  17353      NaN           NaN   \n",
            "98  13-06-02-207100027562016  17353      NaN           NaN   \n",
            "99  04-03-01-202000001762015  17353      NaN           NaN   \n",
            "\n",
            "    number_sections_ipc  criminal  \n",
            "0                   1.0         1  \n",
            "1                   NaN         1  \n",
            "2                   1.0         1  \n",
            "3                   NaN         1  \n",
            "4                   1.0         1  \n",
            "..                  ...       ...  \n",
            "95                  1.0         1  \n",
            "96                  1.0         1  \n",
            "97                  1.0         1  \n",
            "98                  1.0         1  \n",
            "99                  1.0         1  \n",
            "\n",
            "[100 rows x 6 columns]\n"
          ]
        }
      ],
      "source": [
        "acf = pd.read_csv('../../../csv/acts_sections.csv', nrows=100)\n",
        "\n",
        "print(acf)"
      ]
    },
    {
      "cell_type": "code",
      "execution_count": 3,
      "metadata": {
        "id": "dxX2dN2fvud-"
      },
      "outputs": [
        {
          "name": "stdout",
          "output_type": "stream",
          "text": [
            "    ddl_judge_id  state_code  dist_code  court_no  \\\n",
            "0              1           1          1         1   \n",
            "1              2           1          1         1   \n",
            "2              3           1          1         1   \n",
            "3              4           1          1         1   \n",
            "4              5           1          1         1   \n",
            "..           ...         ...        ...       ...   \n",
            "95            96           1          1         4   \n",
            "96            97           1          1         4   \n",
            "97            98           1          1         4   \n",
            "98            99           1          1         4   \n",
            "99           100           1          1         4   \n",
            "\n",
            "                 judge_position female_judge  start_date    end_date  \n",
            "0     chief judicial magistrate  0 nonfemale  20-09-2013  20-02-2014  \n",
            "1     chief judicial magistrate  0 nonfemale  31-10-2013  20-02-2014  \n",
            "2     chief judicial magistrate  0 nonfemale  21-02-2014  31-05-2016  \n",
            "3     chief judicial magistrate  0 nonfemale  01-06-2016  06-06-2016  \n",
            "4     chief judicial magistrate  0 nonfemale  06-06-2016  07-07-2018  \n",
            "..                          ...          ...         ...         ...  \n",
            "95  civil judge junior division  0 nonfemale  01-03-2007  01-06-2015  \n",
            "96  civil judge junior division  0 nonfemale  01-06-2015  31-08-2017  \n",
            "97  civil judge junior division  0 nonfemale  04-06-2018         NaN  \n",
            "98  civil judge senior division  0 nonfemale  01-03-2007  04-06-2012  \n",
            "99  civil judge senior division  0 nonfemale  06-06-2011  07-06-2013  \n",
            "\n",
            "[100 rows x 8 columns]\n"
          ]
        }
      ],
      "source": [
        "jdf = pd.read_csv('../../../csv/judges_clean.csv', nrows=100)\n",
        "\n",
        "print(jdf)"
      ]
    },
    {
      "cell_type": "code",
      "execution_count": 70,
      "metadata": {
        "colab": {
          "base_uri": "https://localhost:8080/"
        },
        "id": "ZLLpab2bwQ14",
        "outputId": "afa42dea-a118-4f1a-a35b-db0a0a162f37"
      },
      "outputs": [],
      "source": [
        "csf = pd.read_csv('../../../csv/cases/cases_2010.csv')\n",
        "#5319\n",
        "# loctest = csf.loc[csf['cino'] == 'MHNB030000032010']\n",
        "# print(loctest)\n",
        "# print(csf)"
      ]
    },
    {
      "cell_type": "code",
      "execution_count": 74,
      "metadata": {},
      "outputs": [
        {
          "name": "stdout",
          "output_type": "stream",
          "text": [
            "0          2011-06-19\n",
            "1          2010-11-21\n",
            "2          2010-11-21\n",
            "3          2010-11-21\n",
            "4          2010-11-21\n",
            "              ...    \n",
            "4281322    2010-07-12\n",
            "4281323    2013-12-22\n",
            "4281324    2013-04-21\n",
            "4281325    2019-11-30\n",
            "4281326    2017-01-07\n",
            "Name: date_of_decision, Length: 4281327, dtype: object\n"
          ]
        }
      ],
      "source": [
        "print(csf[\"date_of_decision\"])"
      ]
    },
    {
      "attachments": {},
      "cell_type": "markdown",
      "metadata": {},
      "source": [
        "## Classification of Crimes\n",
        "\n",
        "### Sources\n",
        "List of crimes against women: https://ncrb.gov.in/en/crime-india-year-2014\n",
        "- 2014 chosen as mid-point\n",
        "> !Change this to most crimes year!\n",
        "- List also unchanging in 2013-2015"
      ]
    },
    {
      "cell_type": "code",
      "execution_count": 5,
      "metadata": {},
      "outputs": [],
      "source": [
        "crimes_set = {'509', '304B', '365', 'Immoral Traffic', '354', '511', \n",
        "            'Dowry', '376', 'Sati', '364', '306', '366', '367', '368', '369',\n",
        "            '364A', 'Indecent Representation', 'Women', 'Woman', 'domestic Violence', \n",
        "            '363', '498A'}\n",
        "\n"
      ]
    },
    {
      "attachments": {},
      "cell_type": "markdown",
      "metadata": {},
      "source": [
        "ACTS_TRUE_DF is dataframe of keys of all acts which are related to crimes against women. "
      ]
    },
    {
      "cell_type": "code",
      "execution_count": 6,
      "metadata": {},
      "outputs": [
        {
          "name": "stdout",
          "output_type": "stream",
          "text": [
            "                                                   act_s  count      act  \\\n",
            "46           ..143 147 323 324 354 341 504 506.2.r/w 149    1.0     46.0   \n",
            "61     /U/S 363, 376 of IPC and Sec. 3(I), (II), (V) ...    1.0     61.0   \n",
            "81     10.Protection of Women from Domestic Violence Act  312.0     81.0   \n",
            "156    12 R/W sec 17,18,19,20,22 Protection of Women ...   51.0    156.0   \n",
            "163    12 of Protection of Women from  Domestic Viole...   34.0    163.0   \n",
            "...                                                  ...    ...      ...   \n",
            "29393  u/sec.366(A), 376 of IPC, u/s. 4,6,12 of POCSO...    1.0  29393.0   \n",
            "29394  u/sec.366(A), 376 of IPC, u/sec. 4 of POCSO Ac...    1.0  29394.0   \n",
            "29402  u/sec.366(A),376(2)(F), 376 (2)(I) Of IPC and ...    1.0  29402.0   \n",
            "29424  u/sec.498A,304B,34, u/sec.3,4, of Dowry Prohib...    1.0  29424.0   \n",
            "29768  under section 376 (2) (N) of IPC and sec.4,6, ...    1.0  29768.0   \n",
            "\n",
            "                                                  tokens  matches  \\\n",
            "46     [..143, 147, 323, 324, 354, 341, 504, 506.2.r/...    [354]   \n",
            "61     [/U/S, 363,, 376, of, IPC, and, Sec., 3(I),, (...    [376]   \n",
            "81     [10.Protection, of, Women, from, Domestic, Vio...  [Women]   \n",
            "156    [12, R/W, sec, 17,18,19,20,22, Protection, of,...  [Women]   \n",
            "163    [12, of, Protection, of, Women, from, Domestic...  [Women]   \n",
            "...                                                  ...      ...   \n",
            "29393  [u/sec.366(A),, 376, of, IPC,, u/s., 4,6,12, o...    [376]   \n",
            "29394  [u/sec.366(A),, 376, of, IPC,, u/sec., 4, of, ...    [376]   \n",
            "29402  [u/sec.366(A),376(2)(F),, 376, (2)(I), Of, IPC...    [376]   \n",
            "29424  [u/sec.498A,304B,34,, u/sec.3,4,, of, Dowry, P...  [Dowry]   \n",
            "29768  [under, section, 376, (2), (N), of, IPC, and, ...    [376]   \n",
            "\n",
            "       is_against_women  \n",
            "46                 True  \n",
            "61                 True  \n",
            "81                 True  \n",
            "156                True  \n",
            "163                True  \n",
            "...                 ...  \n",
            "29393              True  \n",
            "29394              True  \n",
            "29402              True  \n",
            "29424              True  \n",
            "29768              True  \n",
            "\n",
            "[359 rows x 6 columns]\n"
          ]
        }
      ],
      "source": [
        "act_key_df = pd.read_csv('../../../csv/keys/act_key.csv')\n",
        "\n",
        "# check which rows match\n",
        "act_key_df['tokens'] = act_key_df['act_s'].apply(lambda x: str(x).split())\n",
        "act_key_df['matches'] = act_key_df['tokens'].apply(lambda x: list(crimes_set.intersection(x)))\n",
        "act_key_df['is_against_women'] = act_key_df['matches'].apply(lambda x: True if x else False)\n",
        "\n",
        "# pick out rows which match\n",
        "acts_true_df = act_key_df.loc[act_key_df['is_against_women']==True]\n",
        "print(acts_true_df)\n",
        "acts_true_df.to_csv('all_gender_crimes_acts.csv', index=False)"
      ]
    },
    {
      "cell_type": "code",
      "execution_count": 7,
      "metadata": {},
      "outputs": [
        {
          "name": "stdout",
          "output_type": "stream",
          "text": [
            "['../../../csv/cases/cases_2012.csv', '../../../csv/cases/cases_2017.csv', '../../../csv/cases/cases_2011.csv', '../../../csv/cases/cases_2016.csv', '../../../csv/cases/cases_2015.csv', '../../../csv/cases/cases_2018.csv', '../../../csv/cases/cases_2013.csv', '../../../csv/cases/cases_2014.csv', '../../../csv/cases/cases_2010.csv']\n",
            "                      ddl_case_id  year  state_code  dist_code  court_no  \\\n",
            "0        01-01-01-201508017692012  2012           1          1         1   \n",
            "1        01-01-01-201508017702012  2012           1          1         1   \n",
            "2        01-01-01-201608017612012  2012           1          1         1   \n",
            "3        01-01-01-201908000012012  2012           1          1         1   \n",
            "4        01-01-01-201908000022012  2012           1          1         1   \n",
            "...                           ...   ...         ...        ...       ...   \n",
            "4281322  32-01-01-211900000022010  2010          32          1         1   \n",
            "4281323  32-01-01-212400000102010  2010          32          1         1   \n",
            "4281324  32-01-01-212500000012010  2010          32          1         1   \n",
            "4281325  32-01-01-212600000012010  2010          32          1         1   \n",
            "4281326  32-01-01-213000000802010  2010          32          1         1   \n",
            "\n",
            "                     cino                         judge_position  \\\n",
            "0        MHNB030013192012              chief judicial magistrate   \n",
            "1        MHNB030013202012              chief judicial magistrate   \n",
            "2        MHNB030012922012              chief judicial magistrate   \n",
            "3        MHNB030000162012              chief judicial magistrate   \n",
            "4        MHNB030000122012              chief judicial magistrate   \n",
            "...                   ...                                    ...   \n",
            "4281322  UTDN010005962010  principal district and sessions court   \n",
            "4281323  UTDN010000012010  principal district and sessions court   \n",
            "4281324  UTDN010006212010  principal district and sessions court   \n",
            "4281325  UTDN010006032010  principal district and sessions court   \n",
            "4281326  UTDN010006312010  principal district and sessions court   \n",
            "\n",
            "        female_defendant female_petitioner  female_adv_def  female_adv_pet  \\\n",
            "0                 0 male     -9998 unclear           -9998           -9999   \n",
            "1                 0 male     -9998 unclear           -9998           -9999   \n",
            "2                 0 male     -9998 unclear           -9998           -9999   \n",
            "3                 0 male          1 female           -9999               0   \n",
            "4                 0 male          1 female           -9999               0   \n",
            "...                  ...               ...             ...             ...   \n",
            "4281322    -9998 unclear          1 female           -9999               1   \n",
            "4281323         1 female     -9998 unclear               0           -9998   \n",
            "4281324    -9998 unclear          1 female           -9999               0   \n",
            "4281325    -9998 unclear     -9998 unclear               0               0   \n",
            "4281326         1 female     -9998 unclear           -9999               0   \n",
            "\n",
            "         type_name  purpose_name  disp_name date_of_filing date_of_decision  \\\n",
            "0           5682.0           NaN         26     2012-11-27       2012-11-23   \n",
            "1           5682.0           NaN         26     2012-11-27       2012-11-23   \n",
            "2           5985.0           NaN         26     2012-11-21       2012-11-21   \n",
            "3           1849.0        5009.0         22     2012-01-04       2013-12-11   \n",
            "4           1849.0        5167.0         25     2012-01-04       2012-01-04   \n",
            "...            ...           ...        ...            ...              ...   \n",
            "4281322     4684.0        3280.0         30     2010-06-07       2010-07-12   \n",
            "4281323      509.0        3348.0         42     2010-02-25       2013-12-22   \n",
            "4281324     3214.0        3348.0         42     2010-11-29       2013-04-21   \n",
            "4281325     2399.0        3280.0         20     2010-12-01       2019-11-30   \n",
            "4281326     4401.0        3734.0         22     2010-03-02       2017-01-07   \n",
            "\n",
            "        date_first_list date_last_list date_next_list  \n",
            "0            2012-11-23     5000-01-01            NaN  \n",
            "1            2012-11-23     5000-01-01            NaN  \n",
            "2            2012-11-21     5000-01-01            NaN  \n",
            "3            2012-01-27     2013-11-18     2013-12-11  \n",
            "4            2012-01-04     2012-01-04     2012-01-04  \n",
            "...                 ...            ...            ...  \n",
            "4281322      2010-07-12     2010-07-12     2010-07-12  \n",
            "4281323      2012-01-19     2013-12-12     2013-12-22  \n",
            "4281324      2012-07-13     2013-03-15     2013-04-21  \n",
            "4281325      2011-04-01     2019-11-30     2019-11-30  \n",
            "4281326      2013-01-16     2017-01-07     2017-01-07  \n",
            "\n",
            "[80935944 rows x 19 columns]\n"
          ]
        }
      ],
      "source": [
        "import glob\n",
        "\n",
        "folder_path = '../../../csv/cases'\n",
        "\n",
        "file_list = glob.glob(folder_path + \"/*.csv\")\n",
        "# main_dataframe = pd.DataFrame(pd.read_csv(file_list[0]))\n",
        "print(file_list)\n",
        "# for i in range(1,len(file_list)):\n",
        "#     data = pd.read_csv(file_list[i])\n",
        "#     df = pd.DataFrame(data)\n",
        "#     main_dataframe = pd.concat([main_dataframe,df],axis=1)\n",
        "\n",
        "main_dataframe = pd.concat([pd.read_csv(x) for x in file_list])\n",
        "print(main_dataframe)\n",
        "# main_dataframe.to_csv('all_gender_crimes_cases.csv', index=False)"
      ]
    },
    {
      "cell_type": "code",
      "execution_count": 9,
      "metadata": {},
      "outputs": [],
      "source": [
        "# main_dataframe.to_csv('all_gender_crimes_cases.csv', index=False)"
      ]
    },
    {
      "cell_type": "code",
      "execution_count": 29,
      "metadata": {},
      "outputs": [],
      "source": [
        "# main_dataframe = pd.read_csv('all_gender_crimes_cases.csv')"
      ]
    },
    {
      "cell_type": "code",
      "execution_count": 12,
      "metadata": {},
      "outputs": [
        {
          "name": "stdout",
          "output_type": "stream",
          "text": [
            "[2012 2017 2011 2016 2015 2018 2013 2014 2010]\n"
          ]
        }
      ],
      "source": [
        "# print(main_dataframe[\"year\"].unique())"
      ]
    },
    {
      "cell_type": "code",
      "execution_count": 8,
      "metadata": {},
      "outputs": [
        {
          "name": "stderr",
          "output_type": "stream",
          "text": [
            "/tmp/ipykernel_339200/1894113562.py:1: DtypeWarning: Columns (3) have mixed types. Specify dtype option on import or set low_memory=False.\n",
            "  acts_sec_df = pd.read_csv('../../../csv/acts_sections.csv')\n"
          ]
        },
        {
          "name": "stdout",
          "output_type": "stream",
          "text": [
            "                       ddl_case_id      act    section bailable_ipc  \\\n",
            "0         06-03-02-210100004042014  17353.0        NaN          NaN   \n",
            "1         23-34-01-229900001012019   4759.0        NaN          NaN   \n",
            "2         13-18-03-204000030972016  17353.0        NaN          NaN   \n",
            "3         23-28-01-220102000232016   4759.0        NaN          NaN   \n",
            "4         01-35-05-203007002652012  17353.0        NaN          NaN   \n",
            "...                            ...      ...        ...          ...   \n",
            "76811352  13-25-04-201300000162017   4650.0  2113918.0          NaN   \n",
            "76811353  13-25-02-201300001002017  10564.0  2113918.0          NaN   \n",
            "76811354  13-25-02-201300001202017  10564.0  2113918.0          NaN   \n",
            "76811355  13-25-02-201300000892017   4650.0  2113918.0          NaN   \n",
            "76811356  13-25-04-201600000382017   4650.0  2113918.0          NaN   \n",
            "\n",
            "          number_sections_ipc  criminal  \n",
            "0                         1.0         1  \n",
            "1                         NaN         1  \n",
            "2                         1.0         1  \n",
            "3                         NaN         1  \n",
            "4                         1.0         1  \n",
            "...                       ...       ...  \n",
            "76811352                  NaN         0  \n",
            "76811353                  NaN         0  \n",
            "76811354                  NaN         0  \n",
            "76811355                  NaN         0  \n",
            "76811356                  NaN         0  \n",
            "\n",
            "[76811357 rows x 6 columns]\n"
          ]
        }
      ],
      "source": [
        "acts_sec_df = pd.read_csv('../../../csv/acts_sections.csv')\n",
        "\n",
        "print(acts_sec_df)"
      ]
    },
    {
      "cell_type": "code",
      "execution_count": 9,
      "metadata": {},
      "outputs": [],
      "source": [
        "actkeys_against_women = set(acts_true_df[\"act\"])\n",
        "acts_sec_df[\"against_women\"] = acts_sec_df[\"act\"].apply(lambda x: x in actkeys_against_women)"
      ]
    },
    {
      "cell_type": "code",
      "execution_count": 10,
      "metadata": {},
      "outputs": [],
      "source": [
        "cases_against_women = set(acts_sec_df.loc[acts_sec_df[\"against_women\"] == True][\"ddl_case_id\"])\n",
        "# print(cases_against_women)\n",
        "\n",
        "main_dataframe[\"is_against_women\"] = main_dataframe[\"ddl_case_id\"].apply(lambda x: x in cases_against_women)"
      ]
    },
    {
      "cell_type": "code",
      "execution_count": 19,
      "metadata": {},
      "outputs": [
        {
          "name": "stdout",
          "output_type": "stream",
          "text": [
            "                      ddl_case_id  year  state_code  dist_code  court_no  \\\n",
            "57       01-01-01-201908000612012  2012           1          1         1   \n",
            "151      01-01-01-201908001762012  2012           1          1         1   \n",
            "192      01-01-01-201908002182012  2012           1          1         1   \n",
            "2638     01-01-04-200317000012012  2012           1          1         4   \n",
            "2639     01-01-04-200317000032012  2012           1          1         4   \n",
            "...                           ...   ...         ...        ...       ...   \n",
            "4274862  30-02-05-203700000212010  2010          30          2         5   \n",
            "4280405  31-02-01-201900000322010  2010          31          2         1   \n",
            "4280411  31-02-01-201900000552010  2010          31          2         1   \n",
            "4280422  31-02-01-201900001422010  2010          31          2         1   \n",
            "4280816  32-01-01-208700000202010  2010          32          1         1   \n",
            "\n",
            "                     cino                         judge_position  \\\n",
            "57       MHNB030003272012              chief judicial magistrate   \n",
            "151      MHNB030012752012              chief judicial magistrate   \n",
            "192      MHNB030012952012              chief judicial magistrate   \n",
            "2638     MHNB090000172012            civil judge junior division   \n",
            "2639     MHNB090002142012            civil judge junior division   \n",
            "...                   ...                                    ...   \n",
            "4274862  GASG060011162010                         criminal cases   \n",
            "4280405  UTDD010002382010            district and sessions court   \n",
            "4280411  UTDD010002902010            district and sessions court   \n",
            "4280422  UTDD010001612010            district and sessions court   \n",
            "4280816  UTDN010001132010  principal district and sessions court   \n",
            "\n",
            "        female_defendant female_petitioner  female_adv_def  female_adv_pet  \\\n",
            "57                0 male          1 female           -9999               0   \n",
            "151               0 male          1 female               0               0   \n",
            "192               0 male          1 female               0               0   \n",
            "2638              0 male            0 male           -9999               0   \n",
            "2639       -9998 unclear            0 male           -9999               0   \n",
            "...                  ...               ...             ...             ...   \n",
            "4274862           0 male          1 female               0               1   \n",
            "4280405           0 male     -9998 unclear               0               0   \n",
            "4280411           0 male          1 female               0               0   \n",
            "4280422           0 male          1 female           -9999               0   \n",
            "4280816           0 male     -9998 unclear               0               0   \n",
            "\n",
            "         type_name  purpose_name  disp_name date_of_filing date_of_decision  \\\n",
            "57          1849.0        2688.0         42     2012-04-03       2015-04-11   \n",
            "151         1849.0        2688.0         51     2012-09-17       2016-04-04   \n",
            "192         1849.0        4501.0          4     2012-11-21       2016-03-07   \n",
            "2638        1036.0        4072.0         25     2012-01-02       2012-04-07   \n",
            "2639        1036.0         737.0         25     2012-02-27       2012-05-11   \n",
            "...            ...           ...        ...            ...              ...   \n",
            "4274862     1776.0        3280.0         30     2010-08-27       2012-04-19   \n",
            "4280405     1429.0        3734.0         22     2010-03-09       2013-07-02   \n",
            "4280411     1429.0         509.0         42     2010-05-15       2013-11-23   \n",
            "4280422     1429.0        3006.0         22     2010-12-29       2014-04-07   \n",
            "4280816     4383.0        4524.0         32     2010-10-04       2011-09-08   \n",
            "\n",
            "        date_first_list date_last_list date_next_list  is_against_women  \n",
            "57           2012-05-07     2015-04-09     2015-04-11              True  \n",
            "151          2012-12-13     2016-04-04     2016-04-04              True  \n",
            "192          2012-12-05     2016-03-07     2016-03-07              True  \n",
            "2638         2012-01-30     2012-03-30     2012-04-07              True  \n",
            "2639         2012-05-03     2012-05-03     2012-05-11              True  \n",
            "...                 ...            ...            ...               ...  \n",
            "4274862      2010-09-20     2012-04-12     2012-04-19              True  \n",
            "4280405      2011-06-15     2013-06-19     2013-07-02              True  \n",
            "4280411      2011-06-13     2013-11-15     2013-11-23              True  \n",
            "4280422      2011-05-11     2014-04-04     2014-04-07              True  \n",
            "4280816      2011-04-04     2011-08-06     2011-09-08              True  \n",
            "\n",
            "[407014 rows x 20 columns]\n"
          ]
        }
      ],
      "source": [
        "print(main_dataframe.loc[main_dataframe[\"is_against_women\"] == True])"
      ]
    },
    {
      "cell_type": "code",
      "execution_count": 1,
      "metadata": {},
      "outputs": [
        {
          "ename": "NameError",
          "evalue": "name 'pd' is not defined",
          "output_type": "error",
          "traceback": [
            "\u001b[0;31m---------------------------------------------------------------------------\u001b[0m",
            "\u001b[0;31mNameError\u001b[0m                                 Traceback (most recent call last)",
            "Cell \u001b[0;32mIn[1], line 1\u001b[0m\n\u001b[0;32m----> 1\u001b[0m acts_sec_df \u001b[39m=\u001b[39m pd\u001b[39m.\u001b[39mread_csv(\u001b[39m'\u001b[39m\u001b[39m../../../csv/acts_sections.csv\u001b[39m\u001b[39m'\u001b[39m)\n\u001b[1;32m      3\u001b[0m main_dataframe \u001b[39m=\u001b[39m pd\u001b[39m.\u001b[39mmerge(main_dataframe, acts_sec_df, on\u001b[39m=\u001b[39m\u001b[39m'\u001b[39m\u001b[39mddl_case_id\u001b[39m\u001b[39m'\u001b[39m, how\u001b[39m=\u001b[39m\u001b[39m'\u001b[39m\u001b[39mleft\u001b[39m\u001b[39m'\u001b[39m)                                                                                                                                      \n\u001b[1;32m      5\u001b[0m acts_true_list \u001b[39m=\u001b[39m acts_true_df[\u001b[39m'\u001b[39m\u001b[39mact_s\u001b[39m\u001b[39m'\u001b[39m]\u001b[39m.\u001b[39mtolist()\n",
            "\u001b[0;31mNameError\u001b[0m: name 'pd' is not defined"
          ]
        }
      ],
      "source": [
        "# acts_sec_df = pd.read_csv('../../../csv/acts_sections.csv')\n",
        "\n",
        "# main_dataframe = pd.merge(main_dataframe, acts_sec_df, on='ddl_case_id', how='left')                                                                                                                                      \n",
        "\n",
        "# acts_true_list = acts_true_df['act_s'].tolist()\n",
        "# # act_key_df['tokens'] = act_key_df['act_s'].apply(lambda x: str(x).split())\n",
        "# main_dataframe['is_against_women'] = main_dataframe['act'].apply(lambda x: x in acts_true_list)\n",
        "# # act_key_df['matches'] = act_key_df['tokens'].apply(lambda x: list(crimes_set.intersection(x)))\n",
        "# # act_key_df['is_against_women'] = act_key_df['matches'].apply(lambda x: True if x else False)\n",
        "\n",
        "# print(main_dataframe)\n"
      ]
    },
    {
      "cell_type": "code",
      "execution_count": 11,
      "metadata": {},
      "outputs": [],
      "source": [
        "import matplotlib.pyplot as plt"
      ]
    },
    {
      "cell_type": "code",
      "execution_count": 21,
      "metadata": {},
      "outputs": [
        {
          "data": {
            "text/plain": [
              "80935944"
            ]
          },
          "execution_count": 21,
          "metadata": {},
          "output_type": "execute_result"
        }
      ],
      "source": [
        "len(main_dataframe)"
      ]
    },
    {
      "cell_type": "code",
      "execution_count": 22,
      "metadata": {},
      "outputs": [
        {
          "name": "stdout",
          "output_type": "stream",
          "text": [
            "AxesSubplot(0.125,0.11;0.775x0.77)\n"
          ]
        },
        {
          "data": {
            "image/png": "[encoded data removed]",
            "text/plain": [
              "<Figure size 640x480 with 1 Axes>"
            ]
          },
          "metadata": {},
          "output_type": "display_data"
        }
      ],
      "source": [
        "print((main_dataframe.loc[main_dataframe[\"is_against_women\"] == True].groupby([\"year\"])[\"ddl_case_id\"].count()/main_dataframe.groupby([\"year\"])[\"ddl_case_id\"].count()).plot(kind='bar'))"
      ]
    },
    {
      "cell_type": "markdown",
      "metadata": {
        "id": "39RBrD6HMzM7"
      },
      "source": [
        "# Impact of Nirbhaya Case\n",
        "The delhi gang rape and murder case that came to national attention at the end of 2012 was a ~ point in the conversation around gender-based violence in India. [new laws + fast track courts] [ppl wanted harsh punishment].\n",
        "[insert oberservation]"
      ]
    },
    {
      "attachments": {},
      "cell_type": "markdown",
      "metadata": {},
      "source": [
        "This text analyses various factors related to gender-based crimes in the pre and post-Nirbhaya era. The factors considered are:\n",
        "- Number of cases filed [mention new laws + more crime/ more reporting dilemma]\n",
        "- Percentage of cases that resulted in convictions [change in attitude of judges?]\n",
        "- Time taken for final verdict from date of filing [mention fasttrack courts]"
      ]
    },
    {
      "cell_type": "code",
      "execution_count": 12,
      "metadata": {},
      "outputs": [
        {
          "name": "stdout",
          "output_type": "stream",
          "text": [
            "['258 crpc' 'abated' 'absconded' 'acquitted' 'allowed' 'appeal accepted'\n",
            " 'award' 'bail granted' 'bail refused' 'bail rejected' 'cancelled'\n",
            " 'closed' 'committed' 'compounded' 'compromise' 'confession'\n",
            " 'contest-allowed' 'converted' 'convicted' 'decided' 'died' 'dismissed'\n",
            " 'disposal in lok adalat' 'disposed' 'disposed-otherwise'\n",
            " 'disposition var missing' 'ex-parte' 'execution' 'fine' 'judgement'\n",
            " 'not press' 'other' 'otherwise' 'p.o. consign' 'partly decreed'\n",
            " 'plea bargaining' 'plead guilty' 'prison' 'probation' 'procedural'\n",
            " 'quash' 'referred to lok adalat' 'reject' 'remanded' 'settled' 'sine die'\n",
            " 'stayed' 'transferred' 'uncontested' 'untrace' 'withdrawn' 'bail order']\n"
          ]
        }
      ],
      "source": [
        "disp_key_df = pd.read_csv('../../../csv/keys/disp_name_key.csv')\n",
        "print(disp_key_df[\"disp_name_s\"].unique())"
      ]
    },
    {
      "cell_type": "code",
      "execution_count": 42,
      "metadata": {},
      "outputs": [],
      "source": [
        "conv_disp_name = set(['convicted', 'plead guilty', 'prison'])\n",
        "disp_key_df[\"year_code\"] = disp_key_df[\"year\"].astype(str)+disp_key_df[\"disp_name\"].astype(str)\n",
        "conv_disp_keys = disp_key_df.loc[disp_key_df[\"disp_name_s\"].isin(conv_disp_name)]\n",
        "conv_disp_set = conv_disp_keys[\"year_code\"].unique()"
      ]
    },
    {
      "cell_type": "code",
      "execution_count": 20,
      "metadata": {},
      "outputs": [
        {
          "name": "stdout",
          "output_type": "stream",
          "text": [
            "0          26\n",
            "1          26\n",
            "2          26\n",
            "3          22\n",
            "4          25\n",
            "           ..\n",
            "4281322    30\n",
            "4281323    42\n",
            "4281324    42\n",
            "4281325    20\n",
            "4281326    22\n",
            "Name: disp_name, Length: 80935944, dtype: int64\n"
          ]
        }
      ],
      "source": [
        "print(main_dataframe['disp_name'])"
      ]
    },
    {
      "cell_type": "code",
      "execution_count": 52,
      "metadata": {},
      "outputs": [],
      "source": [
        "'''\n",
        "1. crime against women + count /per era\\\n",
        "2. crime against women + verdict convicting /per era\\\n",
        "3. crime against women + (final date - filing date) /per era\\\n",
        "'''\n",
        "# division: 2010-2012\n",
        "# division: 2013-2018\n",
        "pivot_year = 2012\n",
        "# test = set([2012])\n",
        "main_dataframe[\"year_code\"] = main_dataframe[\"year\"].astype(str) + main_dataframe[\"disp_name\"].astype(str)\n",
        "# main_dataframe[\"convicted\"] = main_dataframe[\"year\"].apply(lambda x: x )\n",
        "# convicted_df = main_dataframe.loc((main_dataframe[\"year\"].isin(conv_disp_set)))\n"
      ]
    },
    {
      "cell_type": "code",
      "execution_count": 58,
      "metadata": {},
      "outputs": [
        {
          "name": "stdout",
          "output_type": "stream",
          "text": [
            "80935944\n"
          ]
        }
      ],
      "source": [
        "print(main_dataframe[\"ddl_case_id\"].count())"
      ]
    },
    {
      "cell_type": "code",
      "execution_count": 54,
      "metadata": {},
      "outputs": [],
      "source": [
        "main_dataframe[\"convicted\"] = main_dataframe[\"year_code\"].apply(lambda x: x in conv_disp_set)\n"
      ]
    },
    {
      "cell_type": "code",
      "execution_count": 59,
      "metadata": {},
      "outputs": [
        {
          "name": "stdout",
          "output_type": "stream",
          "text": [
            "80935944\n"
          ]
        }
      ],
      "source": [
        "print(main_dataframe[\"convicted\"].count())"
      ]
    },
    {
      "cell_type": "code",
      "execution_count": 53,
      "metadata": {},
      "outputs": [
        {
          "name": "stdout",
          "output_type": "stream",
          "text": [
            "                      ddl_case_id  year  state_code  dist_code  court_no  \\\n",
            "357      01-01-01-203008000982012  2012           1          1         1   \n",
            "375      01-01-01-203008001182012  2012           1          1         1   \n",
            "411      01-01-01-203008001562012  2012           1          1         1   \n",
            "457      01-01-01-203008002032012  2012           1          1         1   \n",
            "516      01-01-01-203308002662012  2012           1          1         1   \n",
            "...                           ...   ...         ...        ...       ...   \n",
            "4281204  32-01-01-211000001612010  2010          32          1         1   \n",
            "4281296  32-01-01-211200000012010  2010          32          1         1   \n",
            "4281297  32-01-01-211200000032010  2010          32          1         1   \n",
            "4281298  32-01-01-211200000042010  2010          32          1         1   \n",
            "4281304  32-01-01-211200000102010  2010          32          1         1   \n",
            "\n",
            "                     cino                         judge_position  \\\n",
            "357      MHNB030005012012              chief judicial magistrate   \n",
            "375      MHNB030016082012              chief judicial magistrate   \n",
            "411      MHNB030006982012              chief judicial magistrate   \n",
            "457      MHNB030008792012              chief judicial magistrate   \n",
            "516      MHNB030001772012              chief judicial magistrate   \n",
            "...                   ...                                    ...   \n",
            "4281204  UTDN010005512010  principal district and sessions court   \n",
            "4281296  UTDN010005392010  principal district and sessions court   \n",
            "4281297  UTDN010005332010  principal district and sessions court   \n",
            "4281298  UTDN010005342010  principal district and sessions court   \n",
            "4281304  UTDN010005302010  principal district and sessions court   \n",
            "\n",
            "        female_defendant female_petitioner  female_adv_def  ...  purpose_name  \\\n",
            "357               0 male     -9998 unclear               0  ...         737.0   \n",
            "375               0 male     -9998 unclear           -9998  ...        4501.0   \n",
            "411               0 male     -9998 unclear               0  ...        4501.0   \n",
            "457               0 male     -9998 unclear               0  ...        4501.0   \n",
            "516               0 male     -9998 unclear           -9999  ...        5383.0   \n",
            "...                  ...               ...             ...  ...           ...   \n",
            "4281204    -9998 unclear     -9998 unclear               0  ...        4834.0   \n",
            "4281296           0 male     -9998 unclear               0  ...        1963.0   \n",
            "4281297           0 male     -9998 unclear               0  ...        1963.0   \n",
            "4281298           0 male     -9998 unclear               0  ...        3896.0   \n",
            "4281304           0 male     -9998 unclear               0  ...        3896.0   \n",
            "\n",
            "         disp_name  date_of_filing  date_of_decision date_first_list  \\\n",
            "357             19      2012-05-19        2014-07-04      2012-05-19   \n",
            "375             19      2012-07-03        2015-04-29      2013-08-19   \n",
            "411             19      2012-07-25        2015-06-04      2012-08-13   \n",
            "457             19      2012-09-18        2014-03-14             NaN   \n",
            "516             19      2012-02-17        2012-02-17      2012-02-17   \n",
            "...            ...             ...               ...             ...   \n",
            "4281204         37      2010-06-18        2018-09-07      2011-08-30   \n",
            "4281296         19      2010-01-25        2012-07-24      2011-06-28   \n",
            "4281297         19      2010-01-08        2012-06-05      2011-06-28   \n",
            "4281298         19      2010-02-22        2012-01-03      2011-06-28   \n",
            "4281304         19      2010-07-28        2011-12-13      2011-06-28   \n",
            "\n",
            "        date_last_list date_next_list is_against_women convicted  year_code  \n",
            "357         2014-06-23     2014-07-04            False     False     201219  \n",
            "375         2015-04-27     2015-04-29            False     False     201219  \n",
            "411         2015-06-03     2015-06-04            False     False     201219  \n",
            "457         2014-03-12     2014-03-14            False     False     201219  \n",
            "516         2012-02-17     2012-02-17            False     False     201219  \n",
            "...                ...            ...              ...       ...        ...  \n",
            "4281204     2018-09-07     2018-09-07            False     False     201037  \n",
            "4281296     2012-07-17     2012-07-24            False     False     201019  \n",
            "4281297     2012-05-01     2012-06-05            False     False     201019  \n",
            "4281298     2011-11-29     2011-12-27            False     False     201019  \n",
            "4281304     2011-11-29     2011-12-13            False     False     201019  \n",
            "\n",
            "[4536266 rows x 22 columns]\n"
          ]
        }
      ],
      "source": [
        "print(convicted_df)"
      ]
    },
    {
      "cell_type": "code",
      "execution_count": 65,
      "metadata": {},
      "outputs": [
        {
          "name": "stdout",
          "output_type": "stream",
          "text": [
            "80935944\n"
          ]
        }
      ],
      "source": [
        "print(main_dataframe[\"is_against_women\"].count())"
      ]
    },
    {
      "cell_type": "code",
      "execution_count": 68,
      "metadata": {},
      "outputs": [
        {
          "name": "stdout",
          "output_type": "stream",
          "text": [
            "407014\n"
          ]
        }
      ],
      "source": [
        "temp_df = main_dataframe.loc[main_dataframe[\"is_against_women\"] == True]\n",
        "print(temp_df[\"ddl_case_id\"].count())"
      ]
    },
    {
      "cell_type": "code",
      "execution_count": 67,
      "metadata": {},
      "outputs": [
        {
          "name": "stdout",
          "output_type": "stream",
          "text": [
            "782\n"
          ]
        }
      ],
      "source": [
        "temp_df = temp_df.loc[temp_df['convicted']==True]\n",
        "print(temp_df[\"ddl_case_id\"].count())"
      ]
    },
    {
      "cell_type": "code",
      "execution_count": 57,
      "metadata": {},
      "outputs": [
        {
          "name": "stdout",
          "output_type": "stream",
          "text": [
            "782\n"
          ]
        }
      ],
      "source": [
        "# 1. crime against women + count /per era\\\n",
        "# 2. crime against women + verdict convicting /per era\\\n",
        "# 3. crime against women + (final date - filing date) /per era\\\n",
        "\n",
        "total_cases_crimes_against_women = temp_df[\"ddl_case_id\"].count()\n",
        "print(total_cases_crimes_against_women)"
      ]
    },
    {
      "attachments": {},
      "cell_type": "markdown",
      "metadata": {},
      "source": [
        "Out of "
      ]
    },
    {
      "cell_type": "markdown",
      "metadata": {
        "id": "INWYXI0xVwOI"
      },
      "source": [
        "# Change of Ruling Parties\n",
        "In mid-2014, almost exactly the middle of the assessed dataset, India saw a major change in politics with Narendra Modi of BJP replacing the long-serving Manmohan Singh of the Congress. With women's empowerment being a major point on both parties' manifestoes, [insert oberservation]."
      ]
    },
    {
      "attachments": {},
      "cell_type": "markdown",
      "metadata": {},
      "source": [
        "This text analyses various factors related to gender-based crimes in the pre and post-Nirbhaya era. The factors considered are:\n",
        "- Number of cases filed [mention victim blaming by ministers and people in percieved power]\n",
        "- Percentage of cases that resulted in convictions [change in attitude of judges?]\n",
        "- Time taken for final verdict from date of filing [pressure from people on gov to fulfil promises in turn on judiciary]"
      ]
    },
    {
      "attachments": {},
      "cell_type": "markdown",
      "metadata": {},
      "source": [
        "> State gov analysis -> any insights about federation?"
      ]
    },
    {
      "cell_type": "code",
      "execution_count": null,
      "metadata": {},
      "outputs": [],
      "source": [
        "'''\n",
        "1. crime against women + count /per gov-era\\\n",
        "2. crime against women + verdict convicting /per gov-era\\\n",
        "3. crime against women + (final date - filing date) /per gov-era\\\n",
        "'''\n",
        "# division: 2010-2014\n",
        "# division: 2015-2018\n",
        "pivot_year = 2014\n",
        "\n",
        "pre_piv_cases_df = main_dataframe.loc(main_dataframe['year']<=pivot_year)\n",
        "post_piv_cases_df = main_dataframe.loc(main_dataframe['year']>pivot_year)\n",
        "\n",
        "# total number of cases related to crimes against women which were filed in Congress era\n",
        "pre_piv_total = len(pre_piv_cases_df.index) \n",
        "pre_piv_per_year = pre_piv_total/(pivot_year-2009)\n",
        "\n",
        "# total number of cases related to crimes against women which were filed in BJP era\n",
        "post_piv_total = len(post_piv_cases_df.index)\n",
        "post_piv_per_year = post_piv_total/(2018-pivot_year)"
      ]
    },
    {
      "attachments": {},
      "cell_type": "markdown",
      "metadata": {},
      "source": [
        "# What crimes do women commit?\n",
        "But what about when women are the ones committing the crimes?"
      ]
    },
    {
      "attachments": {},
      "cell_type": "markdown",
      "metadata": {},
      "source": [
        "- Laws about gender-related crimes in India focus on women as the victim. => Obviously low women (who are the women who are accused of (more interesting than convicted because it shows that its possible to accuse women) these crimes against other women?)\n",
        "- Women are socialised/ expected to be nurturing, care for family, be jealous of other women. => How does this affect crimes commited by them? They do commit less crimes overall (obv) but do they commit certain kinds of crimes relatively more than others? What could be the reason behind these? \n",
        "- As the expectations from women change over time and maybe become less/ more traditionally \"manly\" [cite], are more cases files against them? Are they necessarily committing more crimes?   "
      ]
    },
    {
      "cell_type": "code",
      "execution_count": null,
      "metadata": {},
      "outputs": [],
      "source": [
        "'''\n",
        "1. defendent woman + crime against woman\n",
        "2. defendent woman + verdict convicting /per crime\\\n",
        "3. defendent woman + verdict convicting /per years\\\n",
        "'''\n",
        "main_dataframe.loc((main_dataframe[\"female_defendant\"]==\"1 female\") & (main_dataframe[\"is_against_women\"]==True))"
      ]
    }
  ],
  "metadata": {
    "colab": {
      "provenance": []
    },
    "kernelspec": {
      "display_name": "pattie",
      "language": "python",
      "name": "python3"
    },
    "language_info": {
      "codemirror_mode": {
        "name": "ipython",
        "version": 3
      },
      "file_extension": ".py",
      "mimetype": "text/x-python",
      "name": "python",
      "nbconvert_exporter": "python",
      "pygments_lexer": "ipython3",
      "version": "3.11.1"
    },
    "vscode": {
      "interpreter": {
        "hash": "30e7a9966b760f1bea700498f7b121542a87c01ceb48f78039ed3f1bd3fa9d92"
      }
    }
  },
  "nbformat": 4,
  "nbformat_minor": 0
}
